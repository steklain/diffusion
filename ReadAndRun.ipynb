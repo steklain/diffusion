{
 "cells": [
  {
   "cell_type": "code",
   "execution_count": 1,
   "id": "f3919f86",
   "metadata": {},
   "outputs": [],
   "source": [
    "import os\n",
    "import numpy as np\n",
    "import csv\n",
    "import pandas as pd"
   ]
  },
  {
   "cell_type": "code",
   "execution_count": 30,
   "id": "b3509b0b",
   "metadata": {},
   "outputs": [],
   "source": [
    "emission = pd.read_csv('lists/emission_G4.csv')\n",
    "detectors = pd.read_csv('lists/detectors_G4.csv')\n",
    "\n",
    "emissionv = []\n",
    "detectorsv = []\n",
    "\n",
    "for index,row in emission.iterrows():\n",
    "    xe = row [ 'x']\n",
    "    ye = row [ 'y']\n",
    "    ze = row [ 'z']\n",
    "    emissionv.append([xe,ye,ze])\n",
    "    \n",
    "for index,row in detectors.iterrows():\n",
    "    xd = row [ 'x']\n",
    "    yd = row [ 'y']\n",
    "    zd = row [ 'z']\n",
    "    detectorsv.append([xd,yd,zd])"
   ]
  },
  {
   "cell_type": "code",
   "execution_count": 32,
   "id": "91da38cb",
   "metadata": {},
   "outputs": [],
   "source": [
    "for index,row in detectors.iterrows():\n",
    "    xd = row [ 'x']\n",
    "    yd = row [ 'y']\n",
    "    zd = row [ 'z']\n",
    "    with open ( 'macros/photonsteste.mac' , 'r') as batch:\n",
    "        lines = batch.readlines()\n",
    "    lines[42] = f\"/gps/pos/centre { xd } { yd } { zd } cm \\n\"\n",
    "    with open ( 'macros/photonsteste.mac' , 'w') as modified_batch:\n",
    "        modified_batch.writelines(lines)\n",
    "        command = f' ./ ArapucaSim -c ../data/DualCell.cfg -b ../macros/photons.batch -n 10000 -o result.dat - sT { theta } - sP { phi } '\n",
    "        os.system ( command )"
   ]
  },
  {
   "cell_type": "code",
   "execution_count": null,
   "id": "959f9708",
   "metadata": {},
   "outputs": [],
   "source": [
    "coordinates = pd.read_csv('lists/coordinates.csv') # This is a separate file created containing the X - Arapuca coordinates ( xa , za ) for running the script\n",
    "xa_values = np.arange ( -12 , 13 , 1) # dimensions of the X - Arapuca cell\n",
    "za_values = np.arange ( -4.8 , 5.4 , 0.6)\n",
    "results = []\n",
    "for index , row in coordinates . iterrows () :\n",
    "    xg = row [ 'xg']\n",
    "    yg = row [ 'yg']\n",
    "    zg = row [ 'zg']\n",
    "    for xa_index in range ( len ( xa_values ) ) :\n",
    "        for za_index in range ( len ( za_values ) ) :\n",
    "            xa = xa_values [ xa_index ]\n",
    "            za = za_values [ za_index ]\n",
    "            theta , phi = theta_phi ( xa , za , xg , yg , zg )\n",
    "            with open ( '../macros/photons.batch' , 'r') as batch :\n",
    "                lines = batch . readlines ()\n",
    "            lines [7] = f\"/gun/position { xg } { yg } { zg }\\ n\"\n",
    "            with open ( '../macros/photons.batch' , 'w') as modified_batch :\n",
    "                modified_batch.writelines(lines)\n",
    "            command = f' ./ ArapucaSim -c ../data/DualCell.cfg -b ../macros/photons.batch -n 10000 -o result.dat - sT { theta } - sP { phi } ' #command that runs the ArapucaSim using the proper files\n",
    "            os . system ( command )\n",
    "            with open ( 'result . dat' , 'r') as result :\n",
    "                b = sum ( line . count ( \" B \" ) for line in result )\n",
    "                e = b /100\n",
    "\n",
    "results . append ([ f'{ xg :.3f } ' ,f'{ zg :.3f }' ,f'{ xa :.3f }' ,f'{ za :.3f }' ,f'{ theta :.4f }' ,f'{ phi :.4f }' ,e ])\n",
    "df = pd . DataFrame ( results , columns =[ 'xg' , 'zg' , 'xa' , 'za' , 'theta' , 'phi' , 'e' ])\n",
    "df . to_csv ( 'output-arapucasim.csv' , index = False )"
   ]
  },
  {
   "cell_type": "code",
   "execution_count": null,
   "id": "185350ce",
   "metadata": {},
   "outputs": [],
   "source": [
    "def angle ( v1 , v2 ) : # a function to calculate the angle between two vectors\n",
    "    dot = np . dot ( v1 , v2 )\n",
    "    mod1 = np . linalg . norm ( v1 )\n",
    "    mod2 = np . linalg . norm ( v2 )\n",
    "    cos_ang = dot / mod1 / mod2\n",
    "    ang = np . arccos ( cos_ang )\n",
    "    ang_deg = np . degrees ( ang )\n",
    "    return ang\n",
    "\n",
    "def theta_phi ( xa , za , xg , yg , zg ) : # converting rectangular coordinates to angle values according to the scheme in Figure 13.\n",
    "    RG = np . array ([ xg , yg , zg ])\n",
    "    RGb = np . array ([ xg ,0 , zg ])\n",
    "    RA = np . array ([ xa ,0 , za ])\n",
    "    MG = RG - RA\n",
    "    pink = RGb - RA\n",
    "    blue = RG - RGb\n",
    "    Ref = np . array ([1 ,0 ,0])\n",
    "    theta_rad = angle ( MG , blue )\n",
    "    theta_deg = np . degrees ( theta_rad )\n",
    "    theta = theta_deg /360\n",
    "    print ( \" Theta ( - sT input ) : \" , f'{ theta:.3f }')\n",
    "    print ( \" Theta ( degrees ) : \" , theta_deg )\n",
    "    phi_rad = angle ( Ref , pink ) + np . pi\n",
    "    if zg <= 0:\n",
    "        phi_rad = 2* np . pi - phi_rad\n",
    "    phi_deg = np . degrees ( phi_rad )\n",
    "    phi = phi_deg /180\n",
    "    print ( \" Phi ( - sP input ) : \" , f'{ phi :.3f }')\n",
    "    print ( \" Phi ( degrees ) : \" , phi_deg )\n",
    "\n",
    "    return theta , phi"
   ]
  }
 ],
 "metadata": {
  "kernelspec": {
   "display_name": "Python 3",
   "language": "python",
   "name": "python3"
  },
  "language_info": {
   "codemirror_mode": {
    "name": "ipython",
    "version": 3
   },
   "file_extension": ".py",
   "mimetype": "text/x-python",
   "name": "python",
   "nbconvert_exporter": "python",
   "pygments_lexer": "ipython3",
   "version": "3.10.12"
  }
 },
 "nbformat": 4,
 "nbformat_minor": 5
}
